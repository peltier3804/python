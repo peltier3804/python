{
 "cells": [
  {
   "cell_type": "code",
   "execution_count": 1,
   "id": "5010725d-243a-4999-8883-991189170a45",
   "metadata": {},
   "outputs": [
    {
     "name": "stdout",
     "output_type": "stream",
     "text": [
      "no display found. Using non-interactive Agg backend\n"
     ]
    }
   ],
   "source": [
    "%matplotlib inline\n",
    "from pathlib import Path\n",
    "import numpy as np\n",
    "import pandas as pd\n",
    "from sklearn.linear_model import LogisticRegression, LogisticRegressionCV\n",
    "from sklearn.model_selection import train_test_split\n",
    "import statsmodels.api as sm\n",
    "import statsmodels.formula.api as smf\n",
    "# pip install mord\n",
    "#from mord import LogisticIT\n",
    "import matplotlib.pylab as plt\n",
    "import seaborn as sns\n",
    "from dmba import classificationSummary, gainsChart, liftChart\n",
    "from dmba.metric import AIC_score\n",
    "#Import math Library\n",
    "import math\n",
    "import numpy as np # linear algebra\n",
    "import pandas as pd # data processing, CSV file I/O (e.g. pd.read_csv)\n",
    "import matplotlib.pyplot as plt # plotting\n",
    "import seaborn as sns\n",
    "import warnings\n",
    "warnings.filterwarnings('ignore')"
   ]
  },
  {
   "cell_type": "code",
   "execution_count": 2,
   "id": "d931acb0-3892-4e84-b694-20e2ed775f15",
   "metadata": {},
   "outputs": [],
   "source": [
    "# Working directory:\n",
    "#\n",
    "# We assume that data are kept in the same directory as the notebook. If you keep your \n",
    "# data in a different folder, replace the argument of the `Path`\n",
    "# DATA = Path('/Users/limin/Library/ClDownloads/dmbaoudStorage/OneDrive-Personal/teaching/DS110/dmba/')\n",
    "DATA = Path('/Users/mattpeltier/Downloads/ujse_a_1434342_sm1547')\n",
    "# DATA = Path('/Users/limin/OneDrive/teaching/DS110/dmba')\n",
    "# DATA = Path('C:/Users/profm/OneDrive/teaching/DS110/dmba')\n",
    "# and then load data using \n",
    "#\n",
    "# pd.read_csv(DATA / ‘filename.csv’)"
   ]
  },
  {
   "cell_type": "code",
   "execution_count": 3,
   "id": "6f57006e-9e18-4ab7-af1d-f2df8a3f4dc8",
   "metadata": {},
   "outputs": [
    {
     "data": {
      "text/plain": [
       "P I F     1416\n",
       "CHGOFF     686\n",
       "Name: MIS_Status, dtype: int64"
      ]
     },
     "execution_count": 3,
     "metadata": {},
     "output_type": "execute_result"
    }
   ],
   "source": [
    "sba_df = pd.read_csv(DATA / 'SBAcase.11.13.17.csv')\n",
    "sba_df['MIS_Status'].value_counts()\n"
   ]
  },
  {
   "cell_type": "code",
   "execution_count": 4,
   "id": "2dac501c-3b2b-4825-a01a-4f623de5dc1b",
   "metadata": {},
   "outputs": [
    {
     "name": "stdout",
     "output_type": "stream",
     "text": [
      "Optimization terminated successfully.\n",
      "         Current function value: 0.514605\n",
      "         Iterations 7\n",
      "Table 7A                            Logit Regression Results                           \n",
      "==============================================================================\n",
      "Dep. Variable:                Default   No. Observations:                 1051\n",
      "Model:                          Logit   Df Residuals:                     1045\n",
      "Method:                           MLE   Df Model:                            5\n",
      "Date:                Thu, 16 May 2024   Pseudo R-squ.:                  0.1740\n",
      "Time:                        11:38:59   Log-Likelihood:                -540.85\n",
      "converged:                       True   LL-Null:                       -654.77\n",
      "Covariance Type:            nonrobust   LLR p-value:                 3.112e-47\n",
      "=====================================================================================\n",
      "                        coef    std err          z      P>|z|      [0.025      0.975]\n",
      "-------------------------------------------------------------------------------------\n",
      "const                 1.3537      0.323      4.192      0.000       0.721       1.987\n",
      "New                  -0.0772      0.210     -0.367      0.713      -0.489       0.335\n",
      "RealEstate           -2.0331      0.364     -5.592      0.000      -2.746      -1.320\n",
      "DisbursementGross -3.371e-07   3.52e-07     -0.958      0.338   -1.03e-06    3.53e-07\n",
      "Portion              -2.8298      0.559     -5.059      0.000      -3.926      -1.733\n",
      "Recession             0.4971      0.241      2.060      0.039       0.024       0.970\n",
      "=====================================================================================\n",
      "\n",
      "Accuracy: 67.94%\n",
      "\n",
      "Confusion Matrix:\n",
      "[[683  13]\n",
      " [324  31]]\n"
     ]
    }
   ],
   "source": [
    "import statsmodels.api as sm\n",
    "from sklearn.metrics import accuracy_score, confusion_matrix\n",
    "predictors = ['New', 'RealEstate', 'DisbursementGross', 'Portion', 'Recession']\n",
    "outcome = 'Default'\n",
    "\n",
    "train_df = sba_df[sba_df['Selected'] == 1]\n",
    "test_df = sba_df[sba_df['Selected'] == 0]\n",
    "\n",
    "train_X = train_df[predictors]\n",
    "train_y = train_df[outcome]\n",
    "\n",
    "test_X = test_df[predictors]\n",
    "test_y = test_df[outcome]\n",
    "\n",
    "train_X = sm.add_constant(train_X)\n",
    "test_X = sm.add_constant(test_X)\n",
    "\n",
    "logit_model = sm.Logit(train_y, train_X)\n",
    "result = logit_model.fit()\n",
    "\n",
    "print('Table 7A',result.summary())\n",
    "print()\n",
    "test_predictions = result.predict(test_X)\n",
    "\n",
    "binary_predictions = (test_predictions >= 0.5).astype(int)\n",
    "\n",
    "accuracy = accuracy_score(test_y, binary_predictions)\n",
    "\n",
    "print(f'Accuracy: {accuracy:.2%}')\n",
    "print()\n",
    "\n",
    "confusion = confusion_matrix(test_y, binary_predictions)\n",
    "\n",
    "print(\"Confusion Matrix:\")\n",
    "print(confusion)\n"
   ]
  },
  {
   "cell_type": "code",
   "execution_count": 5,
   "id": "26fe38e2-7810-4e8d-ba09-2368da74ec84",
   "metadata": {},
   "outputs": [
    {
     "name": "stdout",
     "output_type": "stream",
     "text": [
      "Optimization terminated successfully.\n",
      "         Current function value: 0.515108\n",
      "         Iterations 7\n",
      "Table 8                            Logit Regression Results                           \n",
      "==============================================================================\n",
      "Dep. Variable:                Default   No. Observations:                 1051\n",
      "Model:                          Logit   Df Residuals:                     1047\n",
      "Method:                           MLE   Df Model:                            3\n",
      "Date:                Thu, 16 May 2024   Pseudo R-squ.:                  0.1732\n",
      "Time:                        11:38:59   Log-Likelihood:                -541.38\n",
      "converged:                       True   LL-Null:                       -654.77\n",
      "Covariance Type:            nonrobust   LLR p-value:                 6.874e-49\n",
      "==============================================================================\n",
      "                 coef    std err          z      P>|z|      [0.025      0.975]\n",
      "------------------------------------------------------------------------------\n",
      "const          1.3931      0.322      4.332      0.000       0.763       2.023\n",
      "RealEstate    -2.1282      0.345     -6.169      0.000      -2.804      -1.452\n",
      "Portion       -2.9875      0.539     -5.540      0.000      -4.044      -1.931\n",
      "Recession      0.5041      0.241      2.090      0.037       0.031       0.977\n",
      "==============================================================================\n"
     ]
    }
   ],
   "source": [
    "predictors = ['RealEstate', 'Portion', 'Recession']\n",
    "outcome = 'Default'\n",
    "\n",
    "train_df = sba_df[sba_df['Selected'] == 1]\n",
    "test_df = sba_df[sba_df['Selected'] == 0]\n",
    "\n",
    "train_X = train_df[predictors]\n",
    "train_y = train_df[outcome]\n",
    "\n",
    "test_X = test_df[predictors]\n",
    "test_y = test_df[outcome]\n",
    "\n",
    "train_X = sm.add_constant(train_X)\n",
    "test_X = sm.add_constant(test_X)\n",
    "\n",
    "logit_model = sm.Logit(train_y, train_X)\n",
    "result = logit_model.fit()\n",
    "\n",
    "print('Table 8', result.summary())\n",
    "\n",
    "test_predictions = result.predict(test_X)\n",
    "\n",
    "binary_predictions = (test_predictions >= 0.5).astype(int)"
   ]
  },
  {
   "cell_type": "code",
   "execution_count": 6,
   "id": "2658dc6f-eedf-4e86-b367-36480b44d138",
   "metadata": {},
   "outputs": [
    {
     "data": {
      "text/plain": [
       "0.11905139361332186"
      ]
     },
     "execution_count": 6,
     "metadata": {},
     "output_type": "execute_result"
    }
   ],
   "source": [
    "math.exp(-2.1282)"
   ]
  },
  {
   "cell_type": "code",
   "execution_count": 7,
   "id": "52fa10c5-7795-4db4-8c32-434b3b6ba421",
   "metadata": {},
   "outputs": [
    {
     "data": {
      "text/plain": [
       "8.399733675088202"
      ]
     },
     "execution_count": 7,
     "metadata": {},
     "output_type": "execute_result"
    }
   ],
   "source": [
    "1/math.exp(-2.1282)"
   ]
  },
  {
   "cell_type": "code",
   "execution_count": 8,
   "id": "609c741d-2554-4a01-a234-862200391b0c",
   "metadata": {},
   "outputs": [
    {
     "data": {
      "text/plain": [
       "0.05041331259467938"
      ]
     },
     "execution_count": 8,
     "metadata": {},
     "output_type": "execute_result"
    }
   ],
   "source": [
    "math.exp(-2.9875)"
   ]
  },
  {
   "cell_type": "code",
   "execution_count": 9,
   "id": "65d08c6d-1236-44dc-aabe-d5934e8256e6",
   "metadata": {},
   "outputs": [
    {
     "data": {
      "text/plain": [
       "19.836030376340318"
      ]
     },
     "execution_count": 9,
     "metadata": {},
     "output_type": "execute_result"
    }
   ],
   "source": [
    "1/math.exp(-2.9875)"
   ]
  },
  {
   "cell_type": "code",
   "execution_count": 10,
   "id": "33e67950-465f-4cb9-a790-9eef53573cb0",
   "metadata": {},
   "outputs": [
    {
     "data": {
      "text/plain": [
       "1.6554949043702933"
      ]
     },
     "execution_count": 10,
     "metadata": {},
     "output_type": "execute_result"
    }
   ],
   "source": [
    "math.exp(0.5041)"
   ]
  },
  {
   "cell_type": "code",
   "execution_count": 11,
   "id": "e3c4bb27-a006-407b-a937-1bd03af57b4a",
   "metadata": {},
   "outputs": [
    {
     "data": {
      "text/plain": [
       "0.6040489749380253"
      ]
     },
     "execution_count": 11,
     "metadata": {},
     "output_type": "execute_result"
    }
   ],
   "source": [
    "1/math.exp(0.5041)"
   ]
  },
  {
   "cell_type": "code",
   "execution_count": 12,
   "id": "95bc958d-dc65-45bf-886c-a79bb2975714",
   "metadata": {},
   "outputs": [
    {
     "data": {
      "text/html": [
       "<div>\n",
       "<style scoped>\n",
       "    .dataframe tbody tr th:only-of-type {\n",
       "        vertical-align: middle;\n",
       "    }\n",
       "\n",
       "    .dataframe tbody tr th {\n",
       "        vertical-align: top;\n",
       "    }\n",
       "\n",
       "    .dataframe thead th {\n",
       "        text-align: right;\n",
       "    }\n",
       "</style>\n",
       "<table border=\"1\" class=\"dataframe\">\n",
       "  <thead>\n",
       "    <tr style=\"text-align: right;\">\n",
       "      <th></th>\n",
       "      <th>RealEstate</th>\n",
       "      <th>MIS_Status</th>\n",
       "      <th>Selected</th>\n",
       "      <th>Default</th>\n",
       "    </tr>\n",
       "  </thead>\n",
       "  <tbody>\n",
       "    <tr>\n",
       "      <th>0</th>\n",
       "      <td>0</td>\n",
       "      <td>P I F</td>\n",
       "      <td>0</td>\n",
       "      <td>0</td>\n",
       "    </tr>\n",
       "    <tr>\n",
       "      <th>1</th>\n",
       "      <td>0</td>\n",
       "      <td>P I F</td>\n",
       "      <td>1</td>\n",
       "      <td>0</td>\n",
       "    </tr>\n",
       "    <tr>\n",
       "      <th>2</th>\n",
       "      <td>0</td>\n",
       "      <td>P I F</td>\n",
       "      <td>0</td>\n",
       "      <td>0</td>\n",
       "    </tr>\n",
       "    <tr>\n",
       "      <th>3</th>\n",
       "      <td>0</td>\n",
       "      <td>P I F</td>\n",
       "      <td>1</td>\n",
       "      <td>0</td>\n",
       "    </tr>\n",
       "    <tr>\n",
       "      <th>4</th>\n",
       "      <td>1</td>\n",
       "      <td>P I F</td>\n",
       "      <td>1</td>\n",
       "      <td>0</td>\n",
       "    </tr>\n",
       "    <tr>\n",
       "      <th>5</th>\n",
       "      <td>0</td>\n",
       "      <td>P I F</td>\n",
       "      <td>1</td>\n",
       "      <td>0</td>\n",
       "    </tr>\n",
       "    <tr>\n",
       "      <th>6</th>\n",
       "      <td>1</td>\n",
       "      <td>CHGOFF</td>\n",
       "      <td>0</td>\n",
       "      <td>1</td>\n",
       "    </tr>\n",
       "    <tr>\n",
       "      <th>7</th>\n",
       "      <td>0</td>\n",
       "      <td>P I F</td>\n",
       "      <td>0</td>\n",
       "      <td>0</td>\n",
       "    </tr>\n",
       "    <tr>\n",
       "      <th>8</th>\n",
       "      <td>0</td>\n",
       "      <td>CHGOFF</td>\n",
       "      <td>0</td>\n",
       "      <td>1</td>\n",
       "    </tr>\n",
       "    <tr>\n",
       "      <th>9</th>\n",
       "      <td>0</td>\n",
       "      <td>P I F</td>\n",
       "      <td>1</td>\n",
       "      <td>0</td>\n",
       "    </tr>\n",
       "    <tr>\n",
       "      <th>10</th>\n",
       "      <td>0</td>\n",
       "      <td>CHGOFF</td>\n",
       "      <td>1</td>\n",
       "      <td>1</td>\n",
       "    </tr>\n",
       "    <tr>\n",
       "      <th>11</th>\n",
       "      <td>0</td>\n",
       "      <td>P I F</td>\n",
       "      <td>1</td>\n",
       "      <td>0</td>\n",
       "    </tr>\n",
       "    <tr>\n",
       "      <th>12</th>\n",
       "      <td>0</td>\n",
       "      <td>P I F</td>\n",
       "      <td>0</td>\n",
       "      <td>0</td>\n",
       "    </tr>\n",
       "    <tr>\n",
       "      <th>13</th>\n",
       "      <td>0</td>\n",
       "      <td>CHGOFF</td>\n",
       "      <td>1</td>\n",
       "      <td>1</td>\n",
       "    </tr>\n",
       "    <tr>\n",
       "      <th>14</th>\n",
       "      <td>0</td>\n",
       "      <td>P I F</td>\n",
       "      <td>1</td>\n",
       "      <td>0</td>\n",
       "    </tr>\n",
       "  </tbody>\n",
       "</table>\n",
       "</div>"
      ],
      "text/plain": [
       "    RealEstate MIS_Status  Selected  Default\n",
       "0            0      P I F         0        0\n",
       "1            0      P I F         1        0\n",
       "2            0      P I F         0        0\n",
       "3            0      P I F         1        0\n",
       "4            1      P I F         1        0\n",
       "5            0      P I F         1        0\n",
       "6            1     CHGOFF         0        1\n",
       "7            0      P I F         0        0\n",
       "8            0     CHGOFF         0        1\n",
       "9            0      P I F         1        0\n",
       "10           0     CHGOFF         1        1\n",
       "11           0      P I F         1        0\n",
       "12           0      P I F         0        0\n",
       "13           0     CHGOFF         1        1\n",
       "14           0      P I F         1        0"
      ]
     },
     "execution_count": 12,
     "metadata": {},
     "output_type": "execute_result"
    }
   ],
   "source": [
    "df = sba_df[['RealEstate','MIS_Status','Selected', 'Default']]\n",
    "df.head(15)"
   ]
  },
  {
   "cell_type": "code",
   "execution_count": null,
   "id": "cd199f7a-496a-4aa1-afb6-93e1d9c3fead",
   "metadata": {},
   "outputs": [],
   "source": [
    "\n",
    "\n"
   ]
  },
  {
   "cell_type": "code",
   "execution_count": 13,
   "id": "59e65d9e-60c5-4b5e-9213-bc78bc25e91a",
   "metadata": {},
   "outputs": [
    {
     "name": "stdout",
     "output_type": "stream",
     "text": [
      "Table 9 high risk real estate = 0, low risk real estate = 1\n"
     ]
    },
    {
     "data": {
      "text/html": [
       "<div>\n",
       "<style scoped>\n",
       "    .dataframe tbody tr th:only-of-type {\n",
       "        vertical-align: middle;\n",
       "    }\n",
       "\n",
       "    .dataframe tbody tr th {\n",
       "        vertical-align: top;\n",
       "    }\n",
       "\n",
       "    .dataframe thead th {\n",
       "        text-align: right;\n",
       "    }\n",
       "</style>\n",
       "<table border=\"1\" class=\"dataframe\">\n",
       "  <thead>\n",
       "    <tr style=\"text-align: right;\">\n",
       "      <th>MIS_Status</th>\n",
       "      <th>CHGOFF</th>\n",
       "      <th>P I F</th>\n",
       "    </tr>\n",
       "    <tr>\n",
       "      <th>RealEstate</th>\n",
       "      <th></th>\n",
       "      <th></th>\n",
       "    </tr>\n",
       "  </thead>\n",
       "  <tbody>\n",
       "    <tr>\n",
       "      <th>0</th>\n",
       "      <td>320</td>\n",
       "      <td>433</td>\n",
       "    </tr>\n",
       "    <tr>\n",
       "      <th>1</th>\n",
       "      <td>11</td>\n",
       "      <td>287</td>\n",
       "    </tr>\n",
       "  </tbody>\n",
       "</table>\n",
       "</div>"
      ],
      "text/plain": [
       "MIS_Status  CHGOFF  P I F\n",
       "RealEstate               \n",
       "0              320    433\n",
       "1               11    287"
      ]
     },
     "execution_count": 13,
     "metadata": {},
     "output_type": "execute_result"
    }
   ],
   "source": [
    "# Filter rows where 'Selected' column equals 1\n",
    "select_df = df[df['Selected'] == 1]\n",
    "\n",
    "# Display the filtered DataFrame\n",
    "#filter_df = df[(df['RealEstate'] == 1) & (df['Default'] == 1)]\n",
    "\n",
    "# Display the filtered DataFrame\n",
    "# Create pivot table\n",
    "pivot_table = pd.pivot_table(select_df, index='RealEstate', columns='MIS_Status', values='Selected', aggfunc='sum', fill_value=0)\n",
    "# Create DataFrame\n",
    "\n",
    "print('Table 9 high risk real estate = 0, low risk real estate = 1')\n",
    "pivot_table"
   ]
  },
  {
   "cell_type": "code",
   "execution_count": 14,
   "id": "e27edb4f-acf3-467a-aa70-483399782112",
   "metadata": {},
   "outputs": [
    {
     "name": "stdout",
     "output_type": "stream",
     "text": [
      "B.ii The odds as a function of the predictors\n",
      "RealEstate: 0.11904937261109982\n",
      "Portion: 0.050414217405951214\n",
      "Recession: 1.65553295006041\n"
     ]
    }
   ],
   "source": [
    "import numpy as np\n",
    "\n",
    "# Get coefficients from the model\n",
    "coefficients = result.params\n",
    "\n",
    "# Exponentiate coefficients to obtain odds ratios\n",
    "odds_ratios = np.exp(coefficients)\n",
    "\n",
    "# Print odds ratios\n",
    "print('B.ii The odds as a function of the predictors')\n",
    "for predictor, odds_ratio in zip(predictors, odds_ratios[1:]):  # Exclude intercept\n",
    "    print(f\"{predictor}: {odds_ratio}\")\n"
   ]
  },
  {
   "cell_type": "code",
   "execution_count": 15,
   "id": "f072be20-bb17-4786-bfae-482b8bea03fb",
   "metadata": {},
   "outputs": [
    {
     "name": "stdout",
     "output_type": "stream",
     "text": [
      "8.iii The probability as a function of the predictors\n",
      "\n",
      "      actual      p(0)      p(1)  predicted\n",
      "0          0  0.525148  0.474852          0\n",
      "2          0  0.525148  0.474852          0\n",
      "6          1  0.951467  0.048533          0\n",
      "7          0  0.525148  0.474852          0\n",
      "8          1  0.525148  0.474852          0\n",
      "...      ...       ...       ...        ...\n",
      "2094       0  0.525148  0.474852          0\n",
      "2095       0  0.976400  0.023600          0\n",
      "2096       0  0.976400  0.023600          0\n",
      "2099       0  0.730453  0.269547          0\n",
      "2101       0  0.525148  0.474852          0\n",
      "\n",
      "[1051 rows x 4 columns]\n"
     ]
    }
   ],
   "source": [
    "import pandas as pd\n",
    "import statsmodels.api as sm\n",
    "\n",
    "# Fit the GLM model\n",
    "logit = sm.GLM(train_y, train_X, family=sm.families.Binomial())\n",
    "result = logit.fit()\n",
    "\n",
    "# Generate predictions\n",
    "predictions = result.predict(test_X)\n",
    "\n",
    "# Convert probabilities to binary predictions\n",
    "predictions_nominal = [0 if x < 0.5 else 1 for x in predictions]\n",
    "\n",
    "# Create DataFrame to store results\n",
    "logit_result = pd.DataFrame({\n",
    "    'actual': test_y,  # Actual values\n",
    "    'p(0)': 1 - predictions,  # Probability of class 0\n",
    "    'p(1)': predictions,       # Probability of class 1\n",
    "    'predicted': predictions_nominal  # Predicted classes\n",
    "})\n",
    "\n",
    "# Print the DataFrame\n",
    "print('8.iii The probability as a function of the predictors')\n",
    "print()\n",
    "print(logit_result)\n"
   ]
  },
  {
   "cell_type": "code",
   "execution_count": 16,
   "id": "d8ebbadd-ecd1-45af-9833-660f26090a8f",
   "metadata": {},
   "outputs": [
    {
     "name": "stdout",
     "output_type": "stream",
     "text": [
      "8.C-the reason the p values were selected from 7A- although pvalues value did not show significant difference\n",
      "we did not reject the null because of the control variables\n",
      "Control Variables:  Even if these variables are not the primary focus of the analysis, \n",
      "they could act as control variables to adjust for potential confounding effects.\n",
      "For example, RealEstate and Portion might control for differences in loan characteristics, \n",
      "while Recession could control for macroeconomic conditions.\n"
     ]
    }
   ],
   "source": [
    "print('8.C-the reason the p values were selected from 7A- although pvalues value did not show significant difference') \n",
    "print('we did not reject the null because of the control variables')\n",
    "print('Control Variables:  Even if these variables are not the primary focus of the analysis, \\nthey could act as control variables to adjust for potential confounding effects.') \n",
    "print('For example, RealEstate and Portion might control for differences in loan characteristics, \\nwhile Recession could control for macroeconomic conditions.')"
   ]
  },
  {
   "cell_type": "markdown",
   "id": "ad3eed89-36be-49c1-8000-cce08ded6289",
   "metadata": {},
   "source": [
    "8D-Exponentiate Coefficients: Exponentiating the coefficients transforms them into odds ratios. This step helps in interpreting the impact of each predictor variable on the odds of default."
   ]
  },
  {
   "cell_type": "markdown",
   "id": "d5797491-f467-41f2-87d5-222a17a8cdf5",
   "metadata": {},
   "source": [
    "Interpret Odds Ratios: The odds ratio tells you how a one-unit change in the predictor variable affects the odds of default."
   ]
  },
  {
   "cell_type": "markdown",
   "id": "91ceb15f-edef-4c56-8765-e29e8ea88fe4",
   "metadata": {},
   "source": [
    "Interpretation Example: Let's say one of your predictors is \"Income.\" If the odds ratio associated with income is 1.2, it means that for every one-unit increase in income, the odds of defaulting increase by a factor of 1.2. Similarly, if the odds ratio is 0.8, it means that for every one-unit increase in income, the odds of defaulting decrease by a factor of 0.8"
   ]
  },
  {
   "cell_type": "markdown",
   "id": "ff29faf6-482f-46af-9493-00710802cf2b",
   "metadata": {},
   "source": [
    "After interpreting the odds ratios, you can specify the odds and probabilities of default for different risk indicators. For example, if the odds ratio for a certain predictor variable is 1.5, you could say that individuals with higher values of that predictor are 1.5 times more likely to default compared to those with lower values, all other factors held constant."
   ]
  },
  {
   "cell_type": "code",
   "execution_count": 17,
   "id": "eec53319-0cf3-49b9-a533-da490efd9c33",
   "metadata": {},
   "outputs": [
    {
     "name": "stdout",
     "output_type": "stream",
     "text": [
      "D.i Odds Loan backed by real estate  11.91%\n",
      "\n",
      "Loans backed by real estate less likely to default.\n"
     ]
    }
   ],
   "source": [
    "import numpy as np\n",
    "\n",
    "# Coefficient for the predictor variable indicating real estate backing\n",
    "beta_real_estate = -2.1282\n",
    "\n",
    "# Exponentiate coefficient to obtain odds ratio\n",
    "odds_ratio_real_estate = np.exp(beta_real_estate)\n",
    "\n",
    "# Print the odds ratio\n",
    "print(f'D.i Odds Loan backed by real estate  {odds_ratio_real_estate:.2%}')\n",
    "\n",
    "# Interpretation\n",
    "if odds_ratio_real_estate > 1:\n",
    "    print(\"Loans backed by real estate likely to default.\")\n",
    "elif odds_ratio_real_estate < 1:\n",
    "    print(\"\\nLoans backed by real estate less likely to default.\")\n",
    "else:\n",
    "    print(\"\\nLoans backed by real estate have equal odds of defaulting compared to those not backed by real estate.\")\n"
   ]
  },
  {
   "cell_type": "code",
   "execution_count": 18,
   "id": "d7df46bd-c220-4482-b2cb-3dcfa58f2720",
   "metadata": {},
   "outputs": [
    {
     "name": "stdout",
     "output_type": "stream",
     "text": [
      "Odds ratio:  1.6032\n",
      "\n",
      "Percentage decrease in likelihood of default: -60.32%\n"
     ]
    }
   ],
   "source": [
    "import numpy as np\n",
    "\n",
    "# Coefficient for RealEstate variable\n",
    "recession_coefficient = 0.472\n",
    "\n",
    "# Calculate the odds ratio\n",
    "odds_ratio = np.exp(recession_coefficient)\n",
    "\n",
    "# Calculate the percentage decrease in likelihood of default\n",
    "percentage_decrease = (1 - odds_ratio) * 100\n",
    "\n",
    "print(f'Odds ratio:  {odds_ratio:.4f}')\n",
    "print(f'\\nPercentage decrease in likelihood of default: {percentage_decrease:.2f}%')"
   ]
  },
  {
   "cell_type": "markdown",
   "id": "4e8ea3c4-1ac4-4ae2-bc95-11d3eaeef94a",
   "metadata": {},
   "source": [
    "(iii) How much does the portion of a loan guaranteed by SBA increase or decrease the likelihood of default? Explain using parameter estimates.\n"
   ]
  },
  {
   "cell_type": "code",
   "execution_count": 19,
   "id": "882bb046-6914-457b-af68-b806b82d4559",
   "metadata": {},
   "outputs": [
    {
     "name": "stdout",
     "output_type": "stream",
     "text": [
      "Odds ratio:  0.0381\n",
      "\n",
      "Percentage decrease in likelihood of default: 96.19%\n"
     ]
    }
   ],
   "source": [
    "import numpy as np\n",
    "\n",
    "# Coefficient for RealEstate variable\n",
    "portion = -3.267\n",
    "\n",
    "# Calculate the odds ratio\n",
    "odds_ratio = np.exp(portion)\n",
    "\n",
    "# Calculate the percentage decrease in likelihood of default\n",
    "percentage_decrease = (1 - odds_ratio) * 100\n",
    "\n",
    "print(f'Odds ratio:  {odds_ratio:.4f}')\n",
    "print(f'\\nPercentage decrease in likelihood of default: {percentage_decrease:.2f}%')"
   ]
  },
  {
   "cell_type": "markdown",
   "id": "b9999480-5f67-4240-b7d6-5a303d1c43af",
   "metadata": {},
   "source": [
    "G. decreasing the cutoff value for classification from its current value of 0.5. By decreasing the cutoff value, we become more conservative in classifying instances as \"higher risk,\" thereby reducing the likelihood of missing true \"higher risk\" cases (reducing false negatives)."
   ]
  },
  {
   "cell_type": "code",
   "execution_count": 20,
   "id": "68c80fc5-612e-4306-a3ec-19fd891c7ca5",
   "metadata": {},
   "outputs": [
    {
     "name": "stdout",
     "output_type": "stream",
     "text": [
      "Carmichael Probability: [0.03856247]\n",
      "Prediction: Low Risk: Approve\n"
     ]
    }
   ],
   "source": [
    "import numpy as np\n",
    "\n",
    "# Define the array with the data points\n",
    "Carmichael = np.array([[1, .75, 1, 0.05]])\n",
    "\n",
    "\n",
    "\n",
    "# Assuming you have the coefficients for your Table 8 model\n",
    "coefficients = [1.6045, -2.103, -3.267, 0.472]\n",
    "\n",
    "# Calculating the linear combination of predictors and coefficients\n",
    "linear_combination = np.dot(Carmichael, coefficients)\n",
    "\n",
    "# Applying the logistic function to the linear combination\n",
    "probability = 1 / (1 + np.exp(-linear_combination))\n",
    "\n",
    "# Making predictions based on the threshold of 0.5\n",
    "prediction = 'High Risk: Deny' if probability >= 0.5 else 'Low Risk: Approve'\n",
    "\n",
    "print(\"Carmichael Probability:\", probability)\n",
    "print(\"Prediction:\", prediction)\n"
   ]
  },
  {
   "cell_type": "code",
   "execution_count": 21,
   "id": "6458ee5d-599e-4564-8850-6928f7f78114",
   "metadata": {},
   "outputs": [
    {
     "name": "stdout",
     "output_type": "stream",
     "text": [
      "SV Consuting Probability: [0.8556944]\n",
      "Prediction: High Risk: Deny\n"
     ]
    }
   ],
   "source": [
    "import numpy as np\n",
    "\n",
    "# Define the array with the data points\n",
    "SV = np.array([[1, .04, 0, 0.55]])\n",
    "\n",
    "\n",
    "\n",
    "# Assuming you have the coefficients for your Table 8 model\n",
    "coefficients = [1.6045, -2.103, -3.267, 0.472]\n",
    "\n",
    "# Calculating the linear combination of predictors and coefficients\n",
    "linear_combination = np.dot(SV, coefficients)\n",
    "\n",
    "# Applying the logistic function to the linear combination\n",
    "probability = 1 / (1 + np.exp(-linear_combination))\n",
    "\n",
    "# Making predictions based on the threshold of 0.5\n",
    "prediction = 'High Risk: Deny' if probability >= 0.5 else 'Low Risk: Approve'\n",
    "\n",
    "print(f'SV Consuting Probability: {probability}')\n",
    "print(f'Prediction: {prediction}')"
   ]
  },
  {
   "cell_type": "code",
   "execution_count": 22,
   "id": "fa0a35a5-734c-4249-b958-1844e5d92365",
   "metadata": {},
   "outputs": [
    {
     "name": "stdout",
     "output_type": "stream",
     "text": [
      "Threshold Probability based on Odds: 0.500000\n"
     ]
    }
   ],
   "source": [
    "import numpy as np\n",
    "\n",
    "# Threshold based on Odds\n",
    "threshold_odds = 1  # Let's assume we want odds of 2:1 for approval\n",
    "threshold_prob_odds = threshold_odds / (1 + threshold_odds)\n",
    "print(f'Threshold Probability based on Odds: {threshold_prob_odds:4f}')\n",
    "\n"
   ]
  },
  {
   "cell_type": "code",
   "execution_count": 23,
   "id": "e485d113-3932-49a9-860b-764d79c0d619",
   "metadata": {},
   "outputs": [],
   "source": [
    "import numpy as np\n",
    "import matplotlib.pyplot as plt\n",
    "\n",
    "df = logit_result.sort_values(by=['p(1)'], ascending=False)\n",
    "fig, axes = plt.subplots(nrows=1, ncols=2, figsize=(10,5))\n",
    "gainsChart(df.actual, ax=axes[0])\n",
    "liftChart(df['p(1)'], title=False, ax=axes[1])\n",
    "plt.show()"
   ]
  },
  {
   "cell_type": "code",
   "execution_count": null,
   "id": "668d6145-3cfe-42af-916f-976204865a1b",
   "metadata": {},
   "outputs": [],
   "source": []
  },
  {
   "cell_type": "code",
   "execution_count": 24,
   "id": "831f1de2-094d-4987-86fc-f96ec157fc2f",
   "metadata": {},
   "outputs": [
    {
     "data": {
      "text/plain": [
       "RealEstate  MIS_Status  Selected\n",
       "0           P I F       1           433\n",
       "            CHGOFF      1           320\n",
       "1           P I F       1           287\n",
       "            CHGOFF      1            11\n",
       "dtype: int64"
      ]
     },
     "execution_count": 24,
     "metadata": {},
     "output_type": "execute_result"
    }
   ],
   "source": [
    " #'Intercept': 1.3931, 'RealEstate': -2.1282, 'Portion':-2.9875, 'Recession':0.5041\n",
    "# Selecting only two columns to display\n",
    "new= sba_df[['RealEstate', 'MIS_Status', 'Selected']]  # Using indexing\n",
    "N9= new.loc[sba_df['Selected'] == 1]\n",
    "N9.value_counts()"
   ]
  },
  {
   "cell_type": "code",
   "execution_count": 25,
   "id": "8fe39d32-c5b9-464a-aafd-693bb01c35d9",
   "metadata": {},
   "outputs": [
    {
     "data": {
      "text/html": [
       "<div>\n",
       "<style scoped>\n",
       "    .dataframe tbody tr th:only-of-type {\n",
       "        vertical-align: middle;\n",
       "    }\n",
       "\n",
       "    .dataframe tbody tr th {\n",
       "        vertical-align: top;\n",
       "    }\n",
       "\n",
       "    .dataframe thead tr th {\n",
       "        text-align: left;\n",
       "    }\n",
       "\n",
       "    .dataframe thead tr:last-of-type th {\n",
       "        text-align: right;\n",
       "    }\n",
       "</style>\n",
       "<table border=\"1\" class=\"dataframe\">\n",
       "  <thead>\n",
       "    <tr>\n",
       "      <th></th>\n",
       "      <th colspan=\"2\" halign=\"left\">Selected</th>\n",
       "    </tr>\n",
       "    <tr>\n",
       "      <th>MIS_Status</th>\n",
       "      <th>CHGOFF</th>\n",
       "      <th>P I F</th>\n",
       "    </tr>\n",
       "    <tr>\n",
       "      <th>RealEstate</th>\n",
       "      <th></th>\n",
       "      <th></th>\n",
       "    </tr>\n",
       "  </thead>\n",
       "  <tbody>\n",
       "    <tr>\n",
       "      <th>0</th>\n",
       "      <td>320</td>\n",
       "      <td>433</td>\n",
       "    </tr>\n",
       "    <tr>\n",
       "      <th>1</th>\n",
       "      <td>11</td>\n",
       "      <td>287</td>\n",
       "    </tr>\n",
       "  </tbody>\n",
       "</table>\n",
       "</div>"
      ],
      "text/plain": [
       "           Selected      \n",
       "MIS_Status   CHGOFF P I F\n",
       "RealEstate               \n",
       "0               320   433\n",
       "1                11   287"
      ]
     },
     "execution_count": 25,
     "metadata": {},
     "output_type": "execute_result"
    }
   ],
   "source": [
    "\n",
    "#comparing Loan Status (Charged off or Paid in Full) within New and Existing Businesses & Urban/ Rural Areas\n",
    "pd.pivot_table(N9, index= 'RealEstate', columns= 'MIS_Status', values= ['Selected'], aggfunc= 'count')\n",
    "#print(pd.pivot_table(sba_df, index= 'MIS_Status', columns= 'Selected', values= 'RealEstate', aggfunc= 'count'))\n",
    "\n",
    "#print(pd.pivot_table(sba_df, index= 'MIS_Status', columns= 'UrbanRural', values= 'State', aggfunc= 'count'))"
   ]
  },
  {
   "cell_type": "markdown",
   "id": "2c81d7f0-e816-476f-9a16-9503fa53a686",
   "metadata": {},
   "source": [
    " Fit a logistic regression model to reproduce results (not format) in Tables 7(a), 8, 9 of this article using the SBA case data SBAcase.11.13.17.csv by using (1) sklearn LogisticRegression()\n",
    "liblinear solver and (2) sklearn LogisticRegression() Default Solver 'lbfgs'. \n",
    "Adjust parameters such as \"penalty\" and \"tol\" as needed."
   ]
  },
  {
   "cell_type": "code",
   "execution_count": 26,
   "id": "f771832a-2ad8-4768-956b-9f73b1dc238b",
   "metadata": {},
   "outputs": [
    {
     "name": "stdout",
     "output_type": "stream",
     "text": [
      "H-Table 7A  sklearn LogisticRegression() liblinear solver\n",
      "Intercept : -0.0000\n",
      "             New  RealEstate  DisbursementGross    Portion  Recession\n",
      "coeff -4.689e-12  -2.074e-11         -3.443e-06 -1.859e-11  4.102e-12\n",
      "\n",
      "AIC 704.2005853771188\n"
     ]
    }
   ],
   "source": [
    "predictors = ['New', 'RealEstate', 'DisbursementGross', 'Portion', 'Recession']\n",
    "outcome = 'Default'\n",
    "X = pd.get_dummies(train_df[predictors], drop_first=True, dtype=int)\n",
    "y = train_df[outcome]\n",
    "\n",
    "# split into training and validation\n",
    "train_X, valid_X, train_y, valid_y = train_test_split(X, y, test_size=0.4, \n",
    "                                                      random_state=1)\n",
    "\n",
    "logit_full = LogisticRegression(penalty=\"l2\", C=1e42, solver='liblinear')\n",
    "logit_full.fit(train_X, train_y)\n",
    "\n",
    "pd.set_option('display.width', 95)\n",
    "pd.set_option('display.precision',3)\n",
    "pd.set_option('display.max_columns', 33)\n",
    "print('H-Table 7A  sklearn LogisticRegression() liblinear solver')\n",
    "print(f'Intercept : {logit_full.intercept_[0]:.4f}')\n",
    "\n",
    "print(pd.DataFrame({'coeff': logit_full.coef_[0]}, index=X.columns).transpose())\n",
    "print()\n",
    "print('AIC', AIC_score(valid_y, logit_full.predict(valid_X), df=len(train_X.columns) + 1))\n",
    "pd.reset_option('display.width')\n",
    "pd.reset_option('display.precision')\n",
    "pd.reset_option('display.max_columns')"
   ]
  },
  {
   "cell_type": "code",
   "execution_count": 27,
   "id": "68fc80df-f60c-4837-8119-59f8bffc8bc9",
   "metadata": {},
   "outputs": [
    {
     "name": "stdout",
     "output_type": "stream",
     "text": [
      "H-Table 8  sklearn LogisticRegression() liblinear solver\n",
      "Intercept : 1.6042\n",
      "       RealEstate  Portion  Recession\n",
      "coeff      -2.103   -3.267      0.472\n",
      "\n",
      "AIC 669.2560488780967\n"
     ]
    }
   ],
   "source": [
    "predictors = ['RealEstate', 'Portion', 'Recession']\n",
    "outcome = 'Default'\n",
    "X = pd.get_dummies(train_df[predictors], drop_first=True, dtype=int)\n",
    "y = train_df[outcome]\n",
    "\n",
    "# split into training and validation\n",
    "train_X, valid_X, train_y, valid_y = train_test_split(X, y, test_size=0.4, \n",
    "                                                      random_state=1)\n",
    "\n",
    "logit_full = LogisticRegression(penalty=\"l2\", C=1e42, solver='liblinear')\n",
    "logit_full.fit(train_X, train_y)\n",
    "\n",
    "pd.set_option('display.width', 95)\n",
    "pd.set_option('display.precision',3)\n",
    "pd.set_option('display.max_columns', 33)\n",
    "print('H-Table 8  sklearn LogisticRegression() liblinear solver')\n",
    "print(f'Intercept : {logit_full.intercept_[0]:.4f}')\n",
    "\n",
    "print(pd.DataFrame({'coeff': logit_full.coef_[0]}, index=X.columns).transpose())\n",
    "print()\n",
    "print('AIC', AIC_score(valid_y, logit_full.predict(valid_X), df=len(train_X.columns) + 1))\n",
    "pd.reset_option('display.width')\n",
    "pd.reset_option('display.precision')\n",
    "pd.reset_option('display.max_columns')"
   ]
  },
  {
   "cell_type": "code",
   "execution_count": 28,
   "id": "68ce8db1-04b7-4077-9356-bb1dbf1d3ffa",
   "metadata": {},
   "outputs": [
    {
     "name": "stdout",
     "output_type": "stream",
     "text": [
      "H-Table 7A  sklearn LogisticRegression() liblinear solver, tol parameter\n",
      "Intercept : -0.0000\n",
      "             New  RealEstate  DisbursementGross    Portion  Recession\n",
      "coeff -8.105e-12  -3.571e-11         -3.443e-06 -2.920e-11  8.619e-12\n",
      "\n",
      "AIC 704.2005853771188\n"
     ]
    }
   ],
   "source": [
    "predictors = ['New', 'RealEstate', 'DisbursementGross', 'Portion', 'Recession']\n",
    "outcome = 'Default'\n",
    "X = pd.get_dummies(train_df[predictors], drop_first=True, dtype=int)\n",
    "y = train_df[outcome]\n",
    "\n",
    "# split into training and validation\n",
    "train_X, valid_X, train_y, valid_y = train_test_split(X, y, test_size=0.4, \n",
    "                                                      random_state=1)\n",
    "\n",
    "logit_full = LogisticRegression(penalty='none', C=1e42, solver='lbfgs', tol=1e-8, max_iter=10000)\n",
    "logit_full.fit(train_X, train_y)\n",
    "\n",
    "pd.set_option('display.width', 95)\n",
    "pd.set_option('display.precision',3)\n",
    "pd.set_option('display.max_columns', 33)\n",
    "print('H-Table 7A  sklearn LogisticRegression() liblinear solver, tol parameter')\n",
    "print(f'Intercept : {logit_full.intercept_[0]:.4f}')\n",
    "\n",
    "print(pd.DataFrame({'coeff': logit_full.coef_[0]}, index=X.columns).transpose())\n",
    "print()\n",
    "print('AIC', AIC_score(valid_y, logit_full.predict(valid_X), df=len(train_X.columns) + 1))\n",
    "pd.reset_option('display.width')\n",
    "pd.reset_option('display.precision')\n",
    "pd.reset_option('display.max_columns')"
   ]
  },
  {
   "cell_type": "code",
   "execution_count": 29,
   "id": "a64792ad-9f1f-474b-b467-9d63c4807005",
   "metadata": {},
   "outputs": [
    {
     "name": "stdout",
     "output_type": "stream",
     "text": [
      "H-Table 8  sklearn LogisticRegression() liblinear solver, tol parameter\n",
      "Intercept : 1.6045\n",
      "       RealEstate  Portion  Recession\n",
      "coeff      -2.103   -3.267      0.472\n",
      "\n",
      "AIC 669.2560488780967\n"
     ]
    }
   ],
   "source": [
    "predictors = ['RealEstate', 'Portion', 'Recession']\n",
    "outcome = 'Default'\n",
    "X = pd.get_dummies(train_df[predictors], drop_first=True, dtype=int)\n",
    "y = train_df[outcome]\n",
    "\n",
    "# split into training and validation\n",
    "train_X, valid_X, train_y, valid_y = train_test_split(X, y, test_size=0.4, \n",
    "                                                      random_state=1)\n",
    "\n",
    "logit_full = LogisticRegression(penalty='none', C=1e42, solver='lbfgs', tol=1e-8, max_iter=10000)\n",
    "logit_full.fit(train_X, train_y)\n",
    "\n",
    "pd.set_option('display.width', 95)\n",
    "pd.set_option('display.precision',3)\n",
    "pd.set_option('display.max_columns', 33)\n",
    "print('H-Table 8  sklearn LogisticRegression() liblinear solver, tol parameter')\n",
    "print(f'Intercept : {logit_full.intercept_[0]:.4f}')\n",
    "\n",
    "print(pd.DataFrame({'coeff': logit_full.coef_[0]}, index=X.columns).transpose())\n",
    "print()\n",
    "print('AIC', AIC_score(valid_y, logit_full.predict(valid_X), df=len(train_X.columns) + 1))\n",
    "pd.reset_option('display.width')\n",
    "pd.reset_option('display.precision')\n",
    "pd.reset_option('display.max_columns')"
   ]
  },
  {
   "cell_type": "code",
   "execution_count": null,
   "id": "65c2750c-26d2-4209-8d1e-1d5d3dd06113",
   "metadata": {},
   "outputs": [],
   "source": []
  },
  {
   "cell_type": "code",
   "execution_count": null,
   "id": "c813fbc6-f375-460b-bc8b-eb2b069cf8c4",
   "metadata": {},
   "outputs": [],
   "source": []
  },
  {
   "cell_type": "code",
   "execution_count": null,
   "id": "a883dcf0-cdad-4e78-a114-ac05d4e40a36",
   "metadata": {},
   "outputs": [],
   "source": []
  },
  {
   "cell_type": "code",
   "execution_count": null,
   "id": "9d85c151-4341-4311-aa77-70333f79a6b8",
   "metadata": {},
   "outputs": [],
   "source": []
  },
  {
   "cell_type": "code",
   "execution_count": null,
   "id": "e75de0ef-6ddf-4262-9abf-94275f4c3633",
   "metadata": {},
   "outputs": [],
   "source": []
  },
  {
   "cell_type": "code",
   "execution_count": null,
   "id": "fe346f35-51ac-4cf3-8d82-4a302a19f05c",
   "metadata": {},
   "outputs": [],
   "source": []
  },
  {
   "cell_type": "code",
   "execution_count": null,
   "id": "a0d6007a-ce2e-4d44-a176-a3d1d147ca03",
   "metadata": {},
   "outputs": [],
   "source": []
  },
  {
   "cell_type": "code",
   "execution_count": null,
   "id": "6c5d7103-b71c-442b-9c19-aa365f5fd9f4",
   "metadata": {},
   "outputs": [],
   "source": [
    "\n"
   ]
  },
  {
   "cell_type": "code",
   "execution_count": null,
   "id": "a9adba38-de01-411c-9a43-55aaa7b19b93",
   "metadata": {},
   "outputs": [],
   "source": []
  },
  {
   "cell_type": "code",
   "execution_count": null,
   "id": "f6c3fe47-c3a7-4feb-8709-730f09423aec",
   "metadata": {},
   "outputs": [],
   "source": []
  },
  {
   "cell_type": "code",
   "execution_count": null,
   "id": "0b226ff9-8bf2-4afd-997b-bced9cd29d5e",
   "metadata": {},
   "outputs": [],
   "source": []
  },
  {
   "cell_type": "code",
   "execution_count": null,
   "id": "2078c3c3-b197-4e94-bb63-e9805ff66a77",
   "metadata": {},
   "outputs": [],
   "source": []
  },
  {
   "cell_type": "code",
   "execution_count": null,
   "id": "2aaf67f2-3a02-4688-8eb5-05f748b56389",
   "metadata": {},
   "outputs": [],
   "source": [
    "\n"
   ]
  },
  {
   "cell_type": "code",
   "execution_count": null,
   "id": "014a02d6-f3e1-4b1f-9cda-f2c6ec9e0caa",
   "metadata": {},
   "outputs": [],
   "source": [
    "\n"
   ]
  },
  {
   "cell_type": "code",
   "execution_count": null,
   "id": "8d7e0101-1231-4c73-b407-a8e851e9ff5c",
   "metadata": {},
   "outputs": [],
   "source": []
  },
  {
   "cell_type": "code",
   "execution_count": null,
   "id": "11b7faca-628a-4eb4-9625-b315e0c60853",
   "metadata": {},
   "outputs": [],
   "source": []
  },
  {
   "cell_type": "code",
   "execution_count": null,
   "id": "9b84d36e-2b3e-4b19-ad4f-35e3418cb45a",
   "metadata": {},
   "outputs": [],
   "source": []
  },
  {
   "cell_type": "code",
   "execution_count": null,
   "id": "06d8e83d-c755-4cd1-b9ea-a681fbfc7aae",
   "metadata": {},
   "outputs": [],
   "source": []
  },
  {
   "cell_type": "code",
   "execution_count": null,
   "id": "19d7828d-2a28-494c-ab1e-f395586fd8bd",
   "metadata": {},
   "outputs": [],
   "source": []
  },
  {
   "cell_type": "code",
   "execution_count": null,
   "id": "97071d59-4aad-478a-aeff-117b2828d8a3",
   "metadata": {},
   "outputs": [],
   "source": []
  },
  {
   "cell_type": "code",
   "execution_count": null,
   "id": "5176a118-d3cc-4002-af79-850f4fbdb511",
   "metadata": {},
   "outputs": [],
   "source": []
  },
  {
   "cell_type": "code",
   "execution_count": null,
   "id": "b70ac0d9-c2de-4336-b9d2-32e6cd3c75d0",
   "metadata": {},
   "outputs": [],
   "source": []
  },
  {
   "cell_type": "code",
   "execution_count": null,
   "id": "de507d1d-80d4-4b0b-a496-1abcb6de4f3c",
   "metadata": {},
   "outputs": [],
   "source": []
  },
  {
   "cell_type": "code",
   "execution_count": null,
   "id": "8ce409f9-6bd3-44bc-8012-bad7144ba285",
   "metadata": {},
   "outputs": [],
   "source": []
  },
  {
   "cell_type": "code",
   "execution_count": null,
   "id": "2ad589a8-0c70-496e-9da8-7a9da02a659b",
   "metadata": {},
   "outputs": [],
   "source": []
  },
  {
   "cell_type": "code",
   "execution_count": null,
   "id": "d68e62e4-5c64-4ecd-9b52-fff7d27c5d74",
   "metadata": {},
   "outputs": [],
   "source": []
  },
  {
   "cell_type": "code",
   "execution_count": null,
   "id": "d712cc0c-3e77-41d0-b615-782d7c3007dc",
   "metadata": {},
   "outputs": [],
   "source": []
  },
  {
   "cell_type": "code",
   "execution_count": null,
   "id": "3018783f-720c-4198-865a-11378446c72b",
   "metadata": {},
   "outputs": [],
   "source": []
  },
  {
   "cell_type": "code",
   "execution_count": null,
   "id": "1a1c49d2-65c2-497b-98a6-6ae9b0820404",
   "metadata": {},
   "outputs": [],
   "source": []
  },
  {
   "cell_type": "code",
   "execution_count": null,
   "id": "6f341113-644e-46d3-a63a-5c096288d75c",
   "metadata": {},
   "outputs": [],
   "source": []
  },
  {
   "cell_type": "code",
   "execution_count": null,
   "id": "0925ead9-2a44-4b7c-bc1b-1160fd0c193c",
   "metadata": {},
   "outputs": [],
   "source": []
  },
  {
   "cell_type": "code",
   "execution_count": null,
   "id": "43089b5f-fe6f-4d3d-b7de-99805b883c3b",
   "metadata": {},
   "outputs": [],
   "source": []
  },
  {
   "cell_type": "code",
   "execution_count": null,
   "id": "032eb082-ca00-463b-ad8a-f9ca17950af0",
   "metadata": {},
   "outputs": [],
   "source": []
  },
  {
   "cell_type": "code",
   "execution_count": null,
   "id": "0b20e029-a0ed-4a56-b7ba-ec4629e5d482",
   "metadata": {},
   "outputs": [],
   "source": []
  },
  {
   "cell_type": "code",
   "execution_count": null,
   "id": "8c8d61cf-d9b4-4ff2-b03d-07276100e946",
   "metadata": {},
   "outputs": [],
   "source": []
  },
  {
   "cell_type": "code",
   "execution_count": null,
   "id": "168e85f5-469a-481d-b143-8f0cefed5e0f",
   "metadata": {},
   "outputs": [],
   "source": []
  },
  {
   "cell_type": "code",
   "execution_count": null,
   "id": "38fc9d59-0ae2-4992-b423-da8d0ee3883d",
   "metadata": {},
   "outputs": [],
   "source": []
  },
  {
   "cell_type": "code",
   "execution_count": null,
   "id": "b0dcfa5e-8162-4673-b22b-3fdbe2c34f36",
   "metadata": {},
   "outputs": [],
   "source": []
  },
  {
   "cell_type": "code",
   "execution_count": null,
   "id": "c24b031f-3cec-4f3e-9764-9044e86da8d3",
   "metadata": {},
   "outputs": [],
   "source": []
  },
  {
   "cell_type": "code",
   "execution_count": null,
   "id": "00dd3c7d-ac0e-4c39-83e9-e1955f5afb18",
   "metadata": {},
   "outputs": [],
   "source": []
  },
  {
   "cell_type": "code",
   "execution_count": null,
   "id": "ebffd2e0-2ee1-4a33-9766-a76773a52e96",
   "metadata": {},
   "outputs": [],
   "source": []
  },
  {
   "cell_type": "code",
   "execution_count": null,
   "id": "7446c6ce-bd06-4786-aa8c-7e3b10c7f8f0",
   "metadata": {},
   "outputs": [],
   "source": []
  },
  {
   "cell_type": "code",
   "execution_count": null,
   "id": "9fb54737-b5e2-4427-acff-f4a6f2a7da0d",
   "metadata": {},
   "outputs": [],
   "source": []
  },
  {
   "cell_type": "code",
   "execution_count": null,
   "id": "26bc9457-269f-45d8-a229-a1737b54f6c3",
   "metadata": {},
   "outputs": [],
   "source": []
  },
  {
   "cell_type": "code",
   "execution_count": null,
   "id": "c8f30eb8-8265-43e6-b5a7-67967c5ad55b",
   "metadata": {},
   "outputs": [],
   "source": []
  },
  {
   "cell_type": "code",
   "execution_count": null,
   "id": "367d2f9e-8931-43e1-97e5-6cd8c0134c29",
   "metadata": {},
   "outputs": [],
   "source": []
  },
  {
   "cell_type": "code",
   "execution_count": null,
   "id": "4a5e0802-6c04-4dee-ba0e-762bece6588e",
   "metadata": {},
   "outputs": [],
   "source": []
  }
 ],
 "metadata": {
  "kernelspec": {
   "display_name": "Python 3 (ipykernel)",
   "language": "python",
   "name": "python3"
  },
  "language_info": {
   "codemirror_mode": {
    "name": "ipython",
    "version": 3
   },
   "file_extension": ".py",
   "mimetype": "text/x-python",
   "name": "python",
   "nbconvert_exporter": "python",
   "pygments_lexer": "ipython3",
   "version": "3.9.7"
  },
  "toc-autonumbering": true,
  "toc-showcode": false
 },
 "nbformat": 4,
 "nbformat_minor": 5
}
